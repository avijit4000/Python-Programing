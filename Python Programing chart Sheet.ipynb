{
 "cells": [
  {
   "cell_type": "code",
   "execution_count": 9,
   "id": "1005009a",
   "metadata": {},
   "outputs": [
    {
     "name": "stdout",
     "output_type": "stream",
     "text": [
      "<list_reverseiterator object at 0x0000023342886DD0>\n"
     ]
    }
   ],
   "source": [
    "names= [\"john\",\"Bob\",\"Mosh\",\"Sam\",\"Mary\"]\n",
    "print(reversed(names[:2]))"
   ]
  },
  {
   "cell_type": "code",
   "execution_count": 10,
   "id": "730cd7d9",
   "metadata": {},
   "outputs": [
    {
     "data": {
      "text/plain": [
       "['john', 'Bob', 'Mosh', 'Sam', 'Mary']"
      ]
     },
     "execution_count": 10,
     "metadata": {},
     "output_type": "execute_result"
    }
   ],
   "source": [
    "names\n"
   ]
  },
  {
   "cell_type": "code",
   "execution_count": 10,
   "id": "2290d516",
   "metadata": {},
   "outputs": [],
   "source": [
    "datatype= [1,2,3,4, 'Hello']\n",
    "\n"
   ]
  },
  {
   "cell_type": "code",
   "execution_count": 3,
   "id": "8bba2d64",
   "metadata": {},
   "outputs": [
    {
     "data": {
      "text/plain": [
       "[1, 2, 3, 4, 'Hello']"
      ]
     },
     "execution_count": 3,
     "metadata": {},
     "output_type": "execute_result"
    }
   ],
   "source": [
    "datatype"
   ]
  },
  {
   "cell_type": "code",
   "execution_count": 12,
   "id": "dc8301e8",
   "metadata": {},
   "outputs": [
    {
     "data": {
      "text/plain": [
       "'Hello'"
      ]
     },
     "execution_count": 12,
     "metadata": {},
     "output_type": "execute_result"
    }
   ],
   "source": [
    "datatype[-1]"
   ]
  },
  {
   "cell_type": "code",
   "execution_count": 14,
   "id": "6e4c2a03",
   "metadata": {},
   "outputs": [
    {
     "name": "stdout",
     "output_type": "stream",
     "text": [
      "what's you name?Avijit Biswas\n",
      "Hello Avijit Biswas!\n"
     ]
    }
   ],
   "source": [
    "name=input(\"what's you name?\")\n",
    "print(\"Hello \"+name+\"!\")"
   ]
  },
  {
   "cell_type": "code",
   "execution_count": 23,
   "id": "75ae8bb6",
   "metadata": {},
   "outputs": [
    {
     "name": "stdout",
     "output_type": "stream",
     "text": [
      "How old are you?25.65\n"
     ]
    },
    {
     "data": {
      "text/plain": [
       "25.65"
      ]
     },
     "execution_count": 23,
     "metadata": {},
     "output_type": "execute_result"
    }
   ],
   "source": [
    "age=float(input(\"How old are you?\"))\n",
    "age"
   ]
  },
  {
   "cell_type": "code",
   "execution_count": 24,
   "id": "c7316892",
   "metadata": {},
   "outputs": [
    {
     "data": {
      "text/plain": [
       "25.65"
      ]
     },
     "execution_count": 24,
     "metadata": {},
     "output_type": "execute_result"
    }
   ],
   "source": [
    "age"
   ]
  },
  {
   "cell_type": "code",
   "execution_count": 26,
   "id": "17567ea8",
   "metadata": {},
   "outputs": [],
   "source": [
    "pi=float(age)"
   ]
  },
  {
   "cell_type": "code",
   "execution_count": 27,
   "id": "9011cbdd",
   "metadata": {},
   "outputs": [
    {
     "data": {
      "text/plain": [
       "25.65"
      ]
     },
     "execution_count": 27,
     "metadata": {},
     "output_type": "execute_result"
    }
   ],
   "source": [
    "pi"
   ]
  },
  {
   "cell_type": "code",
   "execution_count": 19,
   "id": "dd3da5ef",
   "metadata": {},
   "outputs": [
    {
     "data": {
      "text/plain": [
       "29"
      ]
     },
     "execution_count": 19,
     "metadata": {},
     "output_type": "execute_result"
    }
   ],
   "source": [
    "age"
   ]
  },
  {
   "cell_type": "code",
   "execution_count": 28,
   "id": "342c684c",
   "metadata": {},
   "outputs": [
    {
     "name": "stdout",
     "output_type": "stream",
     "text": [
      "fi\n",
      "fi\n"
     ]
    }
   ],
   "source": [
    "if 5>2:\n",
    "    print(\"fi\")\n",
    "if 5>2:\n",
    "        print(\"fi\")"
   ]
  },
  {
   "cell_type": "code",
   "execution_count": 30,
   "id": "133a2dbf",
   "metadata": {},
   "outputs": [],
   "source": [
    "x=5\n",
    "y=\"Hello, World\""
   ]
  },
  {
   "cell_type": "code",
   "execution_count": 35,
   "id": "325b0679",
   "metadata": {},
   "outputs": [
    {
     "name": "stdout",
     "output_type": "stream",
     "text": [
      "5 Hello, World\n"
     ]
    }
   ],
   "source": [
    "print(x,  y)"
   ]
  },
  {
   "cell_type": "code",
   "execution_count": 36,
   "id": "5c96412d",
   "metadata": {},
   "outputs": [],
   "source": [
    "a = 4\n",
    "A = \"Sally\"\n",
    "#A will not overwrite a"
   ]
  },
  {
   "cell_type": "code",
   "execution_count": 37,
   "id": "3239852d",
   "metadata": {},
   "outputs": [
    {
     "name": "stdout",
     "output_type": "stream",
     "text": [
      "4 Sally\n"
     ]
    }
   ],
   "source": [
    "print(a,A)"
   ]
  },
  {
   "cell_type": "code",
   "execution_count": 38,
   "id": "8cc5a332",
   "metadata": {},
   "outputs": [],
   "source": [
    "x, y, z= \"orange\",\"aviji\",\"Biswas\""
   ]
  },
  {
   "cell_type": "code",
   "execution_count": 39,
   "id": "2378961f",
   "metadata": {},
   "outputs": [
    {
     "name": "stdout",
     "output_type": "stream",
     "text": [
      "orange\n"
     ]
    }
   ],
   "source": [
    "print(x)"
   ]
  },
  {
   "cell_type": "code",
   "execution_count": 40,
   "id": "faccc0c5",
   "metadata": {},
   "outputs": [
    {
     "name": "stdout",
     "output_type": "stream",
     "text": [
      "Biswas\n"
     ]
    }
   ],
   "source": [
    "print(z)"
   ]
  },
  {
   "cell_type": "code",
   "execution_count": 41,
   "id": "9c40eae3",
   "metadata": {},
   "outputs": [],
   "source": [
    "fruits=[\"apple\",\"banana\",\"cherry\"]\n",
    "x,y,z=fruits"
   ]
  },
  {
   "cell_type": "code",
   "execution_count": 42,
   "id": "611069f4",
   "metadata": {},
   "outputs": [
    {
     "data": {
      "text/plain": [
       "'apple'"
      ]
     },
     "execution_count": 42,
     "metadata": {},
     "output_type": "execute_result"
    }
   ],
   "source": [
    "x"
   ]
  },
  {
   "cell_type": "code",
   "execution_count": 43,
   "id": "ecc929dd",
   "metadata": {},
   "outputs": [
    {
     "data": {
      "text/plain": [
       "'banana'"
      ]
     },
     "execution_count": 43,
     "metadata": {},
     "output_type": "execute_result"
    }
   ],
   "source": [
    "y"
   ]
  },
  {
   "cell_type": "code",
   "execution_count": 44,
   "id": "c9ae0c05",
   "metadata": {},
   "outputs": [
    {
     "name": "stdout",
     "output_type": "stream",
     "text": [
      "cherry\n"
     ]
    }
   ],
   "source": [
    "print(z)"
   ]
  },
  {
   "cell_type": "code",
   "execution_count": 3,
   "id": "74f18d42",
   "metadata": {},
   "outputs": [
    {
     "name": "stdout",
     "output_type": "stream",
     "text": [
      "30\n",
      "29\n",
      "28\n",
      "27\n",
      "26\n",
      "25\n",
      "24\n",
      "23\n",
      "22\n",
      "21\n",
      "20\n",
      "19\n",
      "18\n",
      "17\n",
      "16\n",
      "15\n",
      "14\n",
      "13\n",
      "12\n",
      "11\n",
      "10\n",
      "9\n",
      "8\n",
      "7\n",
      "6\n",
      "5\n"
     ]
    }
   ],
   "source": [
    "current_value=30\n",
    "while current_value>=5:\n",
    "    print(current_value)\n",
    "    current_value-=1"
   ]
  },
  {
   "cell_type": "code",
   "execution_count": 2,
   "id": "67be461c",
   "metadata": {},
   "outputs": [
    {
     "name": "stdout",
     "output_type": "stream",
     "text": [
      "what is your msg:avijit\n",
      "avijit\n",
      "what is your msg:biswas\n",
      "biswas\n",
      "what is your msg:quit\n",
      "quit\n"
     ]
    }
   ],
   "source": [
    "msg=\"\"\n",
    "while msg!='quit':\n",
    "    msg=input(\"what is your msg:\")\n",
    "    print(msg)"
   ]
  },
  {
   "cell_type": "code",
   "execution_count": 1,
   "id": "0b0163b7",
   "metadata": {},
   "outputs": [
    {
     "name": "stdout",
     "output_type": "stream",
     "text": [
      "avijit\n"
     ]
    }
   ],
   "source": [
    "print(\"avijit\")"
   ]
  },
  {
   "cell_type": "code",
   "execution_count": 3,
   "id": "4d4e5fdd",
   "metadata": {},
   "outputs": [
    {
     "name": "stdout",
     "output_type": "stream",
     "text": [
      "hello\n"
     ]
    }
   ],
   "source": [
    "def greet_user():\n",
    "    print('hello')\n",
    "greet_user()"
   ]
  },
  {
   "cell_type": "code",
   "execution_count": 8,
   "id": "fb79c4e7",
   "metadata": {},
   "outputs": [
    {
     "name": "stdout",
     "output_type": "stream",
     "text": [
      "Hello,avijit\n",
      "!\n"
     ]
    }
   ],
   "source": [
    "def greet_user(username):\n",
    "    print(\"Hello,\"+username+\"\\n!\")\n",
    "greet_user('avijit')"
   ]
  },
  {
   "cell_type": "code",
   "execution_count": 13,
   "id": "f01c5542",
   "metadata": {},
   "outputs": [
    {
     "name": "stdout",
     "output_type": "stream",
     "text": [
      "have abacon pizza\n",
      "!\n",
      "have apepperoni pizza\n",
      "!\n"
     ]
    }
   ],
   "source": [
    "def make_pizza(topping='bacon'):\n",
    "    print('have a'+topping+  ' pizza\\n!')\n",
    "make_pizza()\n",
    "make_pizza(\"pepperoni\")"
   ]
  },
  {
   "cell_type": "code",
   "execution_count": 14,
   "id": "68da5a86",
   "metadata": {},
   "outputs": [
    {
     "name": "stdout",
     "output_type": "stream",
     "text": [
      "8\n"
     ]
    }
   ],
   "source": [
    "def add_numbers(x,y):\n",
    "    return x+y\n",
    "sum=add_numbers(3,5)\n",
    "print(sum)"
   ]
  },
  {
   "cell_type": "code",
   "execution_count": 15,
   "id": "744a6a2c",
   "metadata": {},
   "outputs": [],
   "source": [
    "sum=add_numbers(55,65)"
   ]
  },
  {
   "cell_type": "code",
   "execution_count": 16,
   "id": "c68b00b9",
   "metadata": {},
   "outputs": [
    {
     "data": {
      "text/plain": [
       "120"
      ]
     },
     "execution_count": 16,
     "metadata": {},
     "output_type": "execute_result"
    }
   ],
   "source": [
    "sum\n"
   ]
  },
  {
   "cell_type": "code",
   "execution_count": 23,
   "id": "fc66f106",
   "metadata": {},
   "outputs": [
    {
     "name": "stdout",
     "output_type": "stream",
     "text": [
      "Peso  is a great dog!\n",
      "Peso  is a great dog!\n"
     ]
    }
   ],
   "source": [
    "class Dog():\n",
    "    def __init__ (self,name):\n",
    "        self.name = name\n",
    "        \n",
    "    def sit(self):\n",
    "        print(self.name+\"  is a great dog!\")\n",
    "        \n",
    "my_dog=Dog('Peso')\n",
    "print(my_dog.name+\"  is a great dog!\")\n",
    "my_dog.sit()"
   ]
  },
  {
   "cell_type": "code",
   "execution_count": 20,
   "id": "16d5d7c1",
   "metadata": {},
   "outputs": [
    {
     "name": "stdout",
     "output_type": "stream",
     "text": [
      "avijit\n"
     ]
    }
   ],
   "source": [
    "print(\"avijit\")"
   ]
  },
  {
   "cell_type": "code",
   "execution_count": 36,
   "id": "8ef5a358",
   "metadata": {},
   "outputs": [
    {
     "name": "stdout",
     "output_type": "stream",
     "text": [
      "Willie is a search dog.\n",
      "Willie  is a great dog!\n",
      "Willie is searching.\n"
     ]
    }
   ],
   "source": [
    "class SARDog(Dog):\n",
    "    def __init__(self, name):\n",
    "        super().__init__(name)\n",
    "    def search(self):\n",
    "        print(self.name + \" is searching.\")\n",
    "my_dog = SARDog('Willie')\n",
    "print(my_dog.name + \" is a search dog.\")\n",
    "my_dog.sit()\n",
    "my_dog.search() "
   ]
  },
  {
   "cell_type": "code",
   "execution_count": 40,
   "id": "2a1f5ac9",
   "metadata": {},
   "outputs": [
    {
     "name": "stdout",
     "output_type": "stream",
     "text": [
      "Willie  is a search dog.\n",
      "Willie  is a great dog!\n",
      "Willie is searching.\n"
     ]
    }
   ],
   "source": [
    "class SARDog(Dog):\n",
    "    def __init__(self, name):\n",
    "        super().__init__(name)\n",
    "    def search(self):\n",
    "        print(self.name + \" is searching.\")\n",
    "my_dog = SARDog('Willie')\n",
    "print(my_dog.name +\"  is a search dog.\")\n",
    "my_dog.sit()\n",
    "my_dog.search()"
   ]
  },
  {
   "cell_type": "code",
   "execution_count": 26,
   "id": "a8d1a07d",
   "metadata": {},
   "outputs": [
    {
     "name": "stdout",
     "output_type": "stream",
     "text": [
      "Willie is a search dog.\n",
      "Willie  is a great dog!\n",
      "Willie is searching.\n"
     ]
    }
   ],
   "source": [
    "class SARDog(Dog):\n",
    "    \"\"\"Represent a search dog.\"\"\"\n",
    "\n",
    "    def __init__(self, name):\n",
    "        \"\"\"Initialize the sardog.\"\"\"\n",
    "        super().__init__(name)\n",
    "\n",
    "    def search(self):\n",
    "        \"\"\"Simulate searching.\"\"\"\n",
    "        print(self.name + \" is searching.\")\n",
    "\n",
    "my_dog = SARDog('Willie')\n",
    "\n",
    "print(my_dog.name + \" is a search dog.\")\n",
    "my_dog.sit()\n",
    "my_dog.search() "
   ]
  },
  {
   "cell_type": "code",
   "execution_count": 41,
   "id": "35efa016",
   "metadata": {},
   "outputs": [
    {
     "name": "stdout",
     "output_type": "stream",
     "text": [
      "Willie  is a search dog.\n",
      "Willie  is a great dog!\n",
      "Willie is searching.\n"
     ]
    }
   ],
   "source": [
    "class SARDog(Dog): \n",
    "    def __init__(self, name):\n",
    "        super().__init__(name)\n",
    "    def search(self):\n",
    "        print(self.name + \" is searching.\")\n",
    "my_dog = SARDog('Willie')\n",
    "print(my_dog.name +\"  is a search dog.\")\n",
    "my_dog.sit()\n",
    "my_dog.search()"
   ]
  },
  {
   "cell_type": "code",
   "execution_count": 43,
   "id": "3299f906",
   "metadata": {},
   "outputs": [
    {
     "name": "stdout",
     "output_type": "stream",
     "text": [
      "My name is Avijit Biswas. I am from Kolkata. This is my Birth Place.\n",
      "\n",
      "Where are you come from. \n"
     ]
    }
   ],
   "source": [
    "filename='avijit.txt'\n",
    "with open(filename) as file_object:\n",
    "    lines=file_object.readlines()\n",
    "    \n",
    "for line in lines:\n",
    "    print(line)"
   ]
  },
  {
   "cell_type": "code",
   "execution_count": 44,
   "id": "1417c629",
   "metadata": {},
   "outputs": [],
   "source": [
    "filename='avijit.txt'\n",
    "with open(filename, 'w') as file_object:\n",
    "    file_object.write(\"I love programming.\")\n",
    "    "
   ]
  },
  {
   "cell_type": "code",
   "execution_count": 45,
   "id": "8692eb2f",
   "metadata": {},
   "outputs": [
    {
     "name": "stdout",
     "output_type": "stream",
     "text": [
      "I love programming.\n"
     ]
    }
   ],
   "source": [
    "filename='avijit.txt'\n",
    "with open(filename) as file_object:\n",
    "    lines=file_object.readlines()\n",
    "    \n",
    "for line in lines:\n",
    "    print(line)"
   ]
  },
  {
   "cell_type": "code",
   "execution_count": 51,
   "id": "5ceec31a",
   "metadata": {},
   "outputs": [],
   "source": [
    "filename='avijit.txt'\n",
    "with open(filename,'a') as file_object:\n",
    "    file_object.write(\"\\nI loave Making games. \\nMy name is Avijit Biswas. I am from Kolkata. This is my Birth Place.\\nWhere are you come from. \")"
   ]
  },
  {
   "cell_type": "code",
   "execution_count": 53,
   "id": "98e3a628",
   "metadata": {},
   "outputs": [
    {
     "name": "stdout",
     "output_type": "stream",
     "text": [
      "I love programming.\n",
      "\n",
      "I loave Making games.\n",
      "\n",
      "I loave Making games. \n",
      "\n",
      "My name is Avijit Biswas. I am from Kolkata. This is my Birth Place.Where are you come from. \n",
      "\n",
      "I loave Making games. \n",
      "\n",
      "My name is Avijit Biswas. I am from Kolkata. This is my Birth Place.\n",
      "\n",
      "Where are you come from. \n"
     ]
    }
   ],
   "source": [
    "filename='avijit.txt'\n",
    "with open(filename) as file_object:\n",
    "    lines=file_object.readlines()\n",
    "    \n",
    "for line in lines:\n",
    "    print(line)"
   ]
  },
  {
   "cell_type": "code",
   "execution_count": 55,
   "id": "2aa48e71",
   "metadata": {},
   "outputs": [
    {
     "name": "stdout",
     "output_type": "stream",
     "text": [
      "I love programming.\n",
      "\n",
      "I loave Making games.\n",
      "\n",
      "I loave Making games. \n",
      "\n",
      "My name is Avijit Biswas. I am from Kolkata. This is my Birth Place.Where are you come from. \n",
      "\n",
      "I loave Making games. \n",
      "\n",
      "My name is Avijit Biswas. I am from Kolkata. This is my Birth Place.\n",
      "\n",
      "Where are you come from. \n"
     ]
    }
   ],
   "source": [
    "filename='avijit.txt'\n",
    "with open(filename) as file_object:\n",
    "    a=file_object.readlines()\n",
    "for line in a:\n",
    "    print(line)"
   ]
  },
  {
   "cell_type": "code",
   "execution_count": 62,
   "id": "dcf756f4",
   "metadata": {},
   "outputs": [],
   "source": [
    "file='abiswas.txt'\n",
    "with open(file,'w') as file_object1:\n",
    "    file_object1.write('I love you')"
   ]
  },
  {
   "cell_type": "code",
   "execution_count": 63,
   "id": "2f5ce7e7",
   "metadata": {},
   "outputs": [
    {
     "name": "stdout",
     "output_type": "stream",
     "text": [
      "abiswas.txt\n"
     ]
    }
   ],
   "source": [
    "print(file)"
   ]
  },
  {
   "cell_type": "code",
   "execution_count": 65,
   "id": "69fe0af2",
   "metadata": {},
   "outputs": [
    {
     "name": "stdout",
     "output_type": "stream",
     "text": [
      "I love you\n"
     ]
    }
   ],
   "source": [
    "file='abiswas.txt'\n",
    "with open(file) as file_object1:\n",
    "    b=file_object1.readlines()\n",
    "for line in b:\n",
    "    print(line)"
   ]
  },
  {
   "cell_type": "code",
   "execution_count": 71,
   "id": "3f59c625",
   "metadata": {},
   "outputs": [
    {
     "name": "stdout",
     "output_type": "stream",
     "text": [
      "How many tickets do you need?no\n",
      "Please try again.\n",
      "How many tickets do you need? 10\n",
      "Your tickets are printing.\n"
     ]
    }
   ],
   "source": [
    "prompt='How many tickets do you need?'\n",
    "num_tickets= input(prompt)\n",
    "\n",
    "try:\n",
    "    num_tickets=int(num_tickets)\n",
    "except ValueError:\n",
    "    print(\"Please try again.\")\n",
    "else:\n",
    "    print('Your ticks are printing')\n",
    "prompt = \"How many tickets do you need? \"\n",
    "num_tickets = input(prompt)\n",
    "\n",
    "try:\n",
    "    num_tickets = int(num_tickets)\n",
    "except ValueError:\n",
    "    print(\"Please try again.\")\n",
    "else:\n",
    "    print(\"Your tickets are printing.\") "
   ]
  },
  {
   "cell_type": "code",
   "execution_count": 69,
   "id": "7ab334aa",
   "metadata": {},
   "outputs": [
    {
     "name": "stdout",
     "output_type": "stream",
     "text": [
      "How many tickets do you need? 2.3\n",
      "Please try again.\n"
     ]
    }
   ],
   "source": [
    "prompt = \"How many tickets do you need? \"\n",
    "num_tickets = input(prompt)\n",
    "\n",
    "try:\n",
    "    num_tickets = int(num_tickets)\n",
    "except ValueError:\n",
    "    print(\"Please try again.\")\n",
    "else:\n",
    "    print(\"Your tickets are printing.\") "
   ]
  },
  {
   "cell_type": "code",
   "execution_count": 6,
   "id": "0bc43af4",
   "metadata": {},
   "outputs": [
    {
     "name": "stdout",
     "output_type": "stream",
     "text": [
      "How many ticket is required:2.3\n",
      "Please try again\n"
     ]
    }
   ],
   "source": [
    "a=input('How many ticket is required:')\n",
    "try:\n",
    "    b=int(a)\n",
    "except ValueError:\n",
    "    print(\"Please try again\")\n",
    "else:\n",
    "    print(\"your ticket is printing\")"
   ]
  },
  {
   "cell_type": "code",
   "execution_count": 73,
   "id": "c262f2e2",
   "metadata": {},
   "outputs": [
    {
     "name": "stdout",
     "output_type": "stream",
     "text": [
      "1\n",
      "2\n",
      "3\n",
      "4\n",
      "5\n"
     ]
    }
   ],
   "source": [
    "m=1\n",
    "while m<=5:\n",
    "    print(m)\n",
    "    m+=1"
   ]
  },
  {
   "cell_type": "code",
   "execution_count": null,
   "id": "4c37df53",
   "metadata": {},
   "outputs": [],
   "source": [
    "m=''\n",
    "while m!='q':\n",
    "    m=input('what is your name')\n",
    "    print(m)"
   ]
  },
  {
   "cell_type": "code",
   "execution_count": 1,
   "id": "62012892",
   "metadata": {},
   "outputs": [
    {
     "name": "stdout",
     "output_type": "stream",
     "text": [
      "hello\n"
     ]
    }
   ],
   "source": [
    "print('hello')"
   ]
  },
  {
   "cell_type": "code",
   "execution_count": 2,
   "id": "cd35179b",
   "metadata": {},
   "outputs": [
    {
     "name": "stdout",
     "output_type": "stream",
     "text": [
      "tell me : 23\n",
      "yes\n",
      "tell me : 33\n",
      "yes\n",
      "tell me : 12\n",
      "yes\n",
      "tell me : 36\n",
      "yes\n",
      "tell me : yt\n",
      "yes\n"
     ]
    }
   ],
   "source": [
    "w=1\n",
    "while w!='yt':\n",
    "    w=input('tell me : ')\n",
    "    print('yes')"
   ]
  },
  {
   "cell_type": "code",
   "execution_count": 10,
   "id": "c07c0f89",
   "metadata": {},
   "outputs": [
    {
     "name": "stdout",
     "output_type": "stream",
     "text": [
      "how may ticket you wont: 2.3\n",
      "Please try again\n"
     ]
    }
   ],
   "source": [
    "p=input('how may ticket you wont: ')\n",
    "try:\n",
    "    l=int(p)\n",
    "except ValueError:\n",
    "    print(\"Please try again\")\n",
    "else:\n",
    "    print('hear your ticket')\n"
   ]
  },
  {
   "cell_type": "code",
   "execution_count": null,
   "id": "d2bb4f89",
   "metadata": {},
   "outputs": [],
   "source": [
    "m=''\n",
    "while m!='r':\n",
    "    m=input('what: ')\n",
    "    print('no')\n",
    "    \n",
    "    "
   ]
  },
  {
   "cell_type": "code",
   "execution_count": 9,
   "id": "de8c79a6",
   "metadata": {},
   "outputs": [
    {
     "name": "stdout",
     "output_type": "stream",
     "text": [
      "[1]\n",
      "[1, 9]\n",
      "[1, 9, 25]\n",
      "[1, 9, 25, 49]\n",
      "[1, 9, 25, 49, 81]\n"
     ]
    }
   ],
   "source": [
    "r=[]\n",
    "for i in range (1,10,2):\n",
    "    r.append(i**2)\n",
    "    print(r)"
   ]
  },
  {
   "cell_type": "code",
   "execution_count": null,
   "id": "ab97ab80",
   "metadata": {},
   "outputs": [],
   "source": [
    "print('hello')"
   ]
  },
  {
   "cell_type": "code",
   "execution_count": 11,
   "id": "9e19f330",
   "metadata": {},
   "outputs": [],
   "source": [
    "users=[1,4,3,5,6]\n"
   ]
  },
  {
   "cell_type": "code",
   "execution_count": 15,
   "id": "a4a41ec4",
   "metadata": {},
   "outputs": [],
   "source": [
    "users.append(25)"
   ]
  },
  {
   "cell_type": "code",
   "execution_count": 16,
   "id": "2a2d2a98",
   "metadata": {},
   "outputs": [
    {
     "data": {
      "text/plain": [
       "[1, 4, 3, 5, 6, '25', 25]"
      ]
     },
     "execution_count": 16,
     "metadata": {},
     "output_type": "execute_result"
    }
   ],
   "source": [
    "users"
   ]
  },
  {
   "cell_type": "code",
   "execution_count": 18,
   "id": "6d6e5932",
   "metadata": {},
   "outputs": [],
   "source": [
    "users.append('avijit')"
   ]
  },
  {
   "cell_type": "code",
   "execution_count": 19,
   "id": "79970427",
   "metadata": {},
   "outputs": [
    {
     "data": {
      "text/plain": [
       "[1, 4, 3, 5, 6, '25', 25, 'avijit']"
      ]
     },
     "execution_count": 19,
     "metadata": {},
     "output_type": "execute_result"
    }
   ],
   "source": [
    "users"
   ]
  },
  {
   "cell_type": "code",
   "execution_count": 22,
   "id": "1f08f21f",
   "metadata": {},
   "outputs": [
    {
     "data": {
      "text/plain": [
       "'25'"
      ]
     },
     "execution_count": 22,
     "metadata": {},
     "output_type": "execute_result"
    }
   ],
   "source": [
    "users[-3]"
   ]
  },
  {
   "cell_type": "code",
   "execution_count": 23,
   "id": "6908006f",
   "metadata": {},
   "outputs": [],
   "source": [
    "del users[-3]"
   ]
  },
  {
   "cell_type": "code",
   "execution_count": 24,
   "id": "82fdb191",
   "metadata": {},
   "outputs": [
    {
     "data": {
      "text/plain": [
       "[1, 4, 3, 5, 6, 25, 'avijit']"
      ]
     },
     "execution_count": 24,
     "metadata": {},
     "output_type": "execute_result"
    }
   ],
   "source": [
    "users"
   ]
  },
  {
   "cell_type": "code",
   "execution_count": 25,
   "id": "6c8b1228",
   "metadata": {},
   "outputs": [],
   "source": [
    "users.remove(6)"
   ]
  },
  {
   "cell_type": "code",
   "execution_count": 31,
   "id": "f6814edb",
   "metadata": {},
   "outputs": [],
   "source": [
    "t=['avijit','Biswas','das','bose']"
   ]
  },
  {
   "cell_type": "code",
   "execution_count": 29,
   "id": "11158a87",
   "metadata": {},
   "outputs": [
    {
     "data": {
      "text/plain": [
       "[1, 4, 3, 5, 25, 'avijit']"
      ]
     },
     "execution_count": 29,
     "metadata": {},
     "output_type": "execute_result"
    }
   ],
   "source": [
    "users"
   ]
  },
  {
   "cell_type": "code",
   "execution_count": 33,
   "id": "68dabd73",
   "metadata": {},
   "outputs": [
    {
     "name": "stdout",
     "output_type": "stream",
     "text": [
      "wellcome avijit ok\n",
      "wellcome Biswas ok\n",
      "wellcome das ok\n",
      "wellcome bose ok\n"
     ]
    }
   ],
   "source": [
    "for user in t:\n",
    "    print('wellcome '+user+' ok')"
   ]
  },
  {
   "cell_type": "code",
   "execution_count": 36,
   "id": "cf2ce6f4",
   "metadata": {},
   "outputs": [],
   "source": [
    "nu=list(range(1,10))"
   ]
  },
  {
   "cell_type": "code",
   "execution_count": 37,
   "id": "33b850a6",
   "metadata": {},
   "outputs": [
    {
     "data": {
      "text/plain": [
       "[1, 2, 3, 4, 5, 6, 7, 8, 9]"
      ]
     },
     "execution_count": 37,
     "metadata": {},
     "output_type": "execute_result"
    }
   ],
   "source": [
    "nu"
   ]
  },
  {
   "cell_type": "code",
   "execution_count": 38,
   "id": "75ab2da7",
   "metadata": {},
   "outputs": [],
   "source": [
    "ag=[98,63,52,45,22,58,36,45,15,58,98,63,33,37]"
   ]
  },
  {
   "cell_type": "code",
   "execution_count": 41,
   "id": "c3b80ca3",
   "metadata": {},
   "outputs": [
    {
     "data": {
      "text/plain": [
       "15"
      ]
     },
     "execution_count": 41,
     "metadata": {},
     "output_type": "execute_result"
    }
   ],
   "source": [
    "op=min(ag)\n",
    "op"
   ]
  },
  {
   "cell_type": "code",
   "execution_count": 42,
   "id": "0db349f4",
   "metadata": {},
   "outputs": [
    {
     "name": "stdout",
     "output_type": "stream",
     "text": [
      "98\n"
     ]
    }
   ],
   "source": [
    "uy=max(ag)\n",
    "print(uy)"
   ]
  },
  {
   "cell_type": "code",
   "execution_count": 43,
   "id": "cbf7afe6",
   "metadata": {},
   "outputs": [
    {
     "data": {
      "text/plain": [
       "723"
      ]
     },
     "execution_count": 43,
     "metadata": {},
     "output_type": "execute_result"
    }
   ],
   "source": [
    "yu=sum(ag)\n",
    "yu"
   ]
  },
  {
   "cell_type": "code",
   "execution_count": 44,
   "id": "df907e9c",
   "metadata": {},
   "outputs": [],
   "source": [
    "ag1=ag[:]"
   ]
  },
  {
   "cell_type": "code",
   "execution_count": 45,
   "id": "e04b3d01",
   "metadata": {},
   "outputs": [
    {
     "data": {
      "text/plain": [
       "[98, 63, 52, 45, 22, 58, 36, 45, 15, 58, 98, 63, 33, 37]"
      ]
     },
     "execution_count": 45,
     "metadata": {},
     "output_type": "execute_result"
    }
   ],
   "source": [
    "ag1"
   ]
  },
  {
   "cell_type": "code",
   "execution_count": 46,
   "id": "6c990b0a",
   "metadata": {},
   "outputs": [],
   "source": [
    "ag=ag1"
   ]
  },
  {
   "cell_type": "code",
   "execution_count": 47,
   "id": "5173ca31",
   "metadata": {},
   "outputs": [
    {
     "data": {
      "text/plain": [
       "[98, 63, 52, 45, 22, 58, 36, 45, 15, 58, 98, 63, 33, 37]"
      ]
     },
     "execution_count": 47,
     "metadata": {},
     "output_type": "execute_result"
    }
   ],
   "source": [
    "ag\n"
   ]
  },
  {
   "cell_type": "code",
   "execution_count": 48,
   "id": "1d90df65",
   "metadata": {},
   "outputs": [
    {
     "data": {
      "text/plain": [
       "True"
      ]
     },
     "execution_count": 48,
     "metadata": {},
     "output_type": "execute_result"
    }
   ],
   "source": [
    "ag==ag1"
   ]
  },
  {
   "cell_type": "code",
   "execution_count": 58,
   "id": "641f9d09",
   "metadata": {},
   "outputs": [],
   "source": [
    "for i in range(30,1,-2):\n",
    "    y.append(i)\n",
    "    y.append(i**2)"
   ]
  },
  {
   "cell_type": "code",
   "execution_count": 50,
   "id": "83c3f17f",
   "metadata": {},
   "outputs": [
    {
     "data": {
      "text/plain": [
       "[]"
      ]
     },
     "execution_count": 50,
     "metadata": {},
     "output_type": "execute_result"
    }
   ],
   "source": [
    "y"
   ]
  },
  {
   "cell_type": "code",
   "execution_count": 59,
   "id": "7c19c813",
   "metadata": {},
   "outputs": [
    {
     "name": "stdout",
     "output_type": "stream",
     "text": [
      "a\n"
     ]
    }
   ],
   "source": [
    "print('a')"
   ]
  },
  {
   "cell_type": "code",
   "execution_count": 61,
   "id": "1f67ba12",
   "metadata": {},
   "outputs": [
    {
     "name": "stdout",
     "output_type": "stream",
     "text": [
      "1\n",
      "4\n",
      "9\n",
      "16\n",
      "25\n",
      "36\n",
      "49\n",
      "64\n",
      "81\n"
     ]
    }
   ],
   "source": [
    "for i in range(1,10):\n",
    "    print(i**2)"
   ]
  },
  {
   "cell_type": "code",
   "execution_count": 65,
   "id": "ba7ccc9e",
   "metadata": {},
   "outputs": [
    {
     "data": {
      "text/plain": [
       "[0, 1, 4, 9, 16, 25, 36, 49, 64, 81]"
      ]
     },
     "execution_count": 65,
     "metadata": {},
     "output_type": "execute_result"
    }
   ],
   "source": [
    "sq=[x**2 for x in range(10)]\n",
    "sq"
   ]
  },
  {
   "cell_type": "code",
   "execution_count": 64,
   "id": "1946ff87",
   "metadata": {},
   "outputs": [
    {
     "name": "stdout",
     "output_type": "stream",
     "text": [
      "0\n",
      "1\n",
      "4\n",
      "9\n",
      "16\n",
      "25\n",
      "36\n",
      "49\n",
      "64\n",
      "81\n"
     ]
    }
   ],
   "source": [
    "for j in sq:\n",
    "    print(j)"
   ]
  },
  {
   "cell_type": "code",
   "execution_count": 69,
   "id": "bfd4d289",
   "metadata": {},
   "outputs": [],
   "source": [
    "names=['kai','date','mon','demand','ok']\n"
   ]
  },
  {
   "cell_type": "code",
   "execution_count": 82,
   "id": "b6713ba8",
   "metadata": {},
   "outputs": [
    {
     "ename": "AttributeError",
     "evalue": "'str' object has no attribute 'appand'",
     "output_type": "error",
     "traceback": [
      "\u001b[1;31m---------------------------------------------------------------------------\u001b[0m",
      "\u001b[1;31mAttributeError\u001b[0m                            Traceback (most recent call last)",
      "Cell \u001b[1;32mIn [82], line 3\u001b[0m\n\u001b[0;32m      1\u001b[0m ui\u001b[38;5;241m=\u001b[39m[]\n\u001b[0;32m      2\u001b[0m \u001b[38;5;28;01mfor\u001b[39;00m name \u001b[38;5;129;01min\u001b[39;00m names:\n\u001b[1;32m----> 3\u001b[0m     name\u001b[38;5;241m.\u001b[39mupper()\u001b[38;5;241m.\u001b[39mappand(ui)\n\u001b[0;32m      4\u001b[0m \u001b[38;5;28mprint\u001b[39m(ui)\n",
      "\u001b[1;31mAttributeError\u001b[0m: 'str' object has no attribute 'appand'"
     ]
    }
   ],
   "source": [
    "ui=[]\n",
    "for name in names:\n",
    "    name.upper().appand(ui)\n",
    "print(ui)\n",
    "    \n",
    "    "
   ]
  },
  {
   "cell_type": "code",
   "execution_count": 81,
   "id": "cfed158c",
   "metadata": {},
   "outputs": [
    {
     "ename": "AttributeError",
     "evalue": "'int' object has no attribute 'append'",
     "output_type": "error",
     "traceback": [
      "\u001b[1;31m---------------------------------------------------------------------------\u001b[0m",
      "\u001b[1;31mAttributeError\u001b[0m                            Traceback (most recent call last)",
      "Cell \u001b[1;32mIn [81], line 3\u001b[0m\n\u001b[0;32m      1\u001b[0m sq\u001b[38;5;241m=\u001b[39m[]\n\u001b[0;32m      2\u001b[0m \u001b[38;5;28;01mfor\u001b[39;00m e \u001b[38;5;129;01min\u001b[39;00m \u001b[38;5;28mrange\u001b[39m(\u001b[38;5;241m4\u001b[39m,\u001b[38;5;241m57\u001b[39m):\n\u001b[1;32m----> 3\u001b[0m     e\u001b[38;5;241m.\u001b[39mappend(sq)\n\u001b[0;32m      4\u001b[0m \u001b[38;5;28mprint\u001b[39m(sq)\n",
      "\u001b[1;31mAttributeError\u001b[0m: 'int' object has no attribute 'append'"
     ]
    }
   ],
   "source": [
    "sq=[]\n",
    "for e in range(4,57):\n",
    "    e.append(sq)\n",
    "print(sq)"
   ]
  },
  {
   "cell_type": "code",
   "execution_count": 84,
   "id": "6729fd03",
   "metadata": {},
   "outputs": [
    {
     "data": {
      "text/plain": [
       "['kai', 'date', 'mon', 'demand', 'ok']"
      ]
     },
     "execution_count": 84,
     "metadata": {},
     "output_type": "execute_result"
    }
   ],
   "source": [
    "names\n"
   ]
  },
  {
   "cell_type": "code",
   "execution_count": 91,
   "id": "750cbbe1",
   "metadata": {},
   "outputs": [
    {
     "name": "stdout",
     "output_type": "stream",
     "text": [
      "['KAI', 'DATE', 'MON', 'DEMAND', 'OK']\n"
     ]
    }
   ],
   "source": [
    "io=[]\n",
    "for name in names:\n",
    "    io.append(name.upper())\n",
    "print(io)"
   ]
  },
  {
   "cell_type": "code",
   "execution_count": 89,
   "id": "2b4a58d3",
   "metadata": {},
   "outputs": [
    {
     "data": {
      "text/plain": [
       "['kai', 'date', 'mon', 'demand', 'ok']"
      ]
     },
     "execution_count": 89,
     "metadata": {},
     "output_type": "execute_result"
    }
   ],
   "source": [
    "names"
   ]
  },
  {
   "cell_type": "code",
   "execution_count": 92,
   "id": "b868a8a4",
   "metadata": {},
   "outputs": [],
   "source": [
    "po=[na.upper() for na in names]"
   ]
  },
  {
   "cell_type": "code",
   "execution_count": 93,
   "id": "0e8f7d9f",
   "metadata": {},
   "outputs": [
    {
     "data": {
      "text/plain": [
       "['KAI', 'DATE', 'MON', 'DEMAND', 'OK']"
      ]
     },
     "execution_count": 93,
     "metadata": {},
     "output_type": "execute_result"
    }
   ],
   "source": [
    "po"
   ]
  },
  {
   "cell_type": "code",
   "execution_count": 109,
   "id": "75237547",
   "metadata": {},
   "outputs": [],
   "source": [
    "di=('avijit','biswas','enova_x')\n"
   ]
  },
  {
   "cell_type": "code",
   "execution_count": 104,
   "id": "e5c58339",
   "metadata": {},
   "outputs": [
    {
     "ename": "SyntaxError",
     "evalue": "invalid syntax (2337947948.py, line 2)",
     "output_type": "error",
     "traceback": [
      "\u001b[1;36m  Cell \u001b[1;32mIn [104], line 2\u001b[1;36m\u001b[0m\n\u001b[1;33m    for da in range yu:\u001b[0m\n\u001b[1;37m                    ^\u001b[0m\n\u001b[1;31mSyntaxError\u001b[0m\u001b[1;31m:\u001b[0m invalid syntax\n"
     ]
    }
   ],
   "source": [
    "mk=[]\n",
    "for da in range yu:\n",
    "    mk.append(da.upper())\n",
    "print(mk)"
   ]
  },
  {
   "cell_type": "code",
   "execution_count": 102,
   "id": "6e2bc3aa",
   "metadata": {},
   "outputs": [
    {
     "data": {
      "text/plain": [
       "('avijit', 'biswas', 'enova')"
      ]
     },
     "execution_count": 102,
     "metadata": {},
     "output_type": "execute_result"
    }
   ],
   "source": [
    "di"
   ]
  },
  {
   "cell_type": "code",
   "execution_count": 103,
   "id": "b8e506cb",
   "metadata": {},
   "outputs": [],
   "source": [
    "yu=['avijit','biswas','enova']"
   ]
  },
  {
   "cell_type": "code",
   "execution_count": 110,
   "id": "3947bf65",
   "metadata": {},
   "outputs": [],
   "source": [
    "ytg=[yi.upper() for yi in di]"
   ]
  },
  {
   "cell_type": "code",
   "execution_count": 111,
   "id": "a95bccec",
   "metadata": {},
   "outputs": [
    {
     "data": {
      "text/plain": [
       "['AVIJIT', 'BISWAS', 'ENOVA_X']"
      ]
     },
     "execution_count": 111,
     "metadata": {},
     "output_type": "execute_result"
    }
   ],
   "source": [
    "ytg"
   ]
  },
  {
   "cell_type": "code",
   "execution_count": 112,
   "id": "43d4248f",
   "metadata": {},
   "outputs": [
    {
     "data": {
      "text/plain": [
       "['avijit', 'biswas', 'enova_x']"
      ]
     },
     "execution_count": 112,
     "metadata": {},
     "output_type": "execute_result"
    }
   ],
   "source": [
    "uh=[ih.lower() for ih in ytg]\n",
    "uh"
   ]
  },
  {
   "cell_type": "code",
   "execution_count": 113,
   "id": "3a7a965c",
   "metadata": {},
   "outputs": [],
   "source": [
    "alien_0={'color':'green','points':5}\n"
   ]
  },
  {
   "cell_type": "code",
   "execution_count": 118,
   "id": "80acb1e9",
   "metadata": {},
   "outputs": [
    {
     "ename": "TypeError",
     "evalue": "unhashable type: 'list'",
     "output_type": "error",
     "traceback": [
      "\u001b[1;31m---------------------------------------------------------------------------\u001b[0m",
      "\u001b[1;31mTypeError\u001b[0m                                 Traceback (most recent call last)",
      "Cell \u001b[1;32mIn [118], line 1\u001b[0m\n\u001b[1;32m----> 1\u001b[0m \u001b[38;5;28mprint\u001b[39m(alien_0[[\u001b[38;5;124m'\u001b[39m\u001b[38;5;124mcolor\u001b[39m\u001b[38;5;124m'\u001b[39m,\u001b[38;5;124m'\u001b[39m\u001b[38;5;124mpoints\u001b[39m\u001b[38;5;124m'\u001b[39m]])\n",
      "\u001b[1;31mTypeError\u001b[0m: unhashable type: 'list'"
     ]
    }
   ],
   "source": [
    "print(alien_0[['color','points']])"
   ]
  },
  {
   "cell_type": "code",
   "execution_count": 115,
   "id": "b806631a",
   "metadata": {},
   "outputs": [
    {
     "name": "stdout",
     "output_type": "stream",
     "text": [
      "5\n"
     ]
    }
   ],
   "source": [
    "print(alien_0['points'])"
   ]
  },
  {
   "cell_type": "code",
   "execution_count": 119,
   "id": "d40b501a",
   "metadata": {},
   "outputs": [],
   "source": [
    "ac=alien_0.get('color')"
   ]
  },
  {
   "cell_type": "code",
   "execution_count": 120,
   "id": "7d7e8e30",
   "metadata": {},
   "outputs": [
    {
     "data": {
      "text/plain": [
       "'green'"
      ]
     },
     "execution_count": 120,
     "metadata": {},
     "output_type": "execute_result"
    }
   ],
   "source": [
    "ac"
   ]
  },
  {
   "cell_type": "code",
   "execution_count": 121,
   "id": "351164b9",
   "metadata": {},
   "outputs": [],
   "source": [
    "alien_1={'color':'green'}\n",
    "alien_col=alien_1.get('color')\n",
    "alien_poi=alien_1.get('points',0)"
   ]
  },
  {
   "cell_type": "code",
   "execution_count": 122,
   "id": "a99383b4",
   "metadata": {},
   "outputs": [
    {
     "name": "stdout",
     "output_type": "stream",
     "text": [
      "green\n",
      "0\n"
     ]
    }
   ],
   "source": [
    "print(alien_col)\n",
    "print(alien_poi)"
   ]
  },
  {
   "cell_type": "code",
   "execution_count": 123,
   "id": "e02d5695",
   "metadata": {},
   "outputs": [
    {
     "data": {
      "text/plain": [
       "{'color': 'green'}"
      ]
     },
     "execution_count": 123,
     "metadata": {},
     "output_type": "execute_result"
    }
   ],
   "source": [
    "alien_1"
   ]
  },
  {
   "cell_type": "code",
   "execution_count": 124,
   "id": "cf7b336f",
   "metadata": {},
   "outputs": [],
   "source": [
    "alien_1['x']=0\n",
    "alien_1['y']=25"
   ]
  },
  {
   "cell_type": "code",
   "execution_count": 125,
   "id": "a4bd6a0d",
   "metadata": {},
   "outputs": [
    {
     "data": {
      "text/plain": [
       "{'color': 'green', 'x': 0, 'y': 25}"
      ]
     },
     "execution_count": 125,
     "metadata": {},
     "output_type": "execute_result"
    }
   ],
   "source": [
    "alien_1"
   ]
  },
  {
   "cell_type": "code",
   "execution_count": 126,
   "id": "98f6bb1a",
   "metadata": {},
   "outputs": [],
   "source": [
    "alien_1['x']=90"
   ]
  },
  {
   "cell_type": "code",
   "execution_count": 127,
   "id": "38c43016",
   "metadata": {},
   "outputs": [
    {
     "data": {
      "text/plain": [
       "{'color': 'green', 'x': 90, 'y': 25}"
      ]
     },
     "execution_count": 127,
     "metadata": {},
     "output_type": "execute_result"
    }
   ],
   "source": [
    "alien_1"
   ]
  },
  {
   "cell_type": "code",
   "execution_count": 128,
   "id": "df50539f",
   "metadata": {},
   "outputs": [],
   "source": [
    "del alien_1['x']"
   ]
  },
  {
   "cell_type": "code",
   "execution_count": 129,
   "id": "167f9e35",
   "metadata": {},
   "outputs": [
    {
     "data": {
      "text/plain": [
       "{'color': 'green', 'y': 25}"
      ]
     },
     "execution_count": 129,
     "metadata": {},
     "output_type": "execute_result"
    }
   ],
   "source": [
    "alien_1"
   ]
  },
  {
   "cell_type": "code",
   "execution_count": 135,
   "id": "dcb17c25",
   "metadata": {},
   "outputs": [],
   "source": [
    "fvl={\n",
    "    'jen'   : 'python',\n",
    "     'sarah' : 'c',\n",
    "    'edward': 'ruby',\n",
    "    'phil'  : 'python'}"
   ]
  },
  {
   "cell_type": "code",
   "execution_count": 136,
   "id": "deaee629",
   "metadata": {},
   "outputs": [
    {
     "data": {
      "text/plain": [
       "{'jen': 'python', 'sarah': 'c', 'edward': 'ruby', 'phil': 'python'}"
      ]
     },
     "execution_count": 136,
     "metadata": {},
     "output_type": "execute_result"
    }
   ],
   "source": [
    "fvl"
   ]
  },
  {
   "cell_type": "code",
   "execution_count": 143,
   "id": "ced6871f",
   "metadata": {},
   "outputs": [
    {
     "name": "stdout",
     "output_type": "stream",
     "text": [
      "python\n",
      "c\n",
      "ruby\n",
      "python\n"
     ]
    }
   ],
   "source": [
    "for name in fvl.values():\n",
    "    print(name)"
   ]
  },
  {
   "cell_type": "code",
   "execution_count": 144,
   "id": "278f7086",
   "metadata": {},
   "outputs": [],
   "source": [
    "nei=len(fvl)"
   ]
  },
  {
   "cell_type": "code",
   "execution_count": 145,
   "id": "9506ac77",
   "metadata": {},
   "outputs": [
    {
     "data": {
      "text/plain": [
       "4"
      ]
     },
     "execution_count": 145,
     "metadata": {},
     "output_type": "execute_result"
    }
   ],
   "source": [
    "nei"
   ]
  },
  {
   "cell_type": "code",
   "execution_count": 1,
   "id": "28c66502",
   "metadata": {},
   "outputs": [
    {
     "name": "stdout",
     "output_type": "stream",
     "text": [
      "avijit\n"
     ]
    }
   ],
   "source": [
    "print('avijit')"
   ]
  },
  {
   "cell_type": "code",
   "execution_count": 2,
   "id": "e21fc982",
   "metadata": {},
   "outputs": [
    {
     "name": "stdout",
     "output_type": "stream",
     "text": [
      "hello\n"
     ]
    }
   ],
   "source": [
    "print('hello')"
   ]
  },
  {
   "cell_type": "code",
   "execution_count": null,
   "id": "5ee1145c",
   "metadata": {},
   "outputs": [
    {
     "name": "stdout",
     "output_type": "stream",
     "text": [
      "\n",
      "who are you?avijti\n",
      "Nice to meet youavijti!\n",
      "\n",
      "who are you?88\n",
      "Nice to meet you88!\n"
     ]
    }
   ],
   "source": [
    "while True:\n",
    "    name=input(\"\\nwho are you?\")\n",
    "    print(\"Nice to meet you\"+name+\"!\")"
   ]
  },
  {
   "cell_type": "code",
   "execution_count": null,
   "id": "b06e268a",
   "metadata": {},
   "outputs": [],
   "source": []
  }
 ],
 "metadata": {
  "kernelspec": {
   "display_name": "Python 3 (ipykernel)",
   "language": "python",
   "name": "python3"
  },
  "language_info": {
   "codemirror_mode": {
    "name": "ipython",
    "version": 3
   },
   "file_extension": ".py",
   "mimetype": "text/x-python",
   "name": "python",
   "nbconvert_exporter": "python",
   "pygments_lexer": "ipython3",
   "version": "3.10.7"
  }
 },
 "nbformat": 4,
 "nbformat_minor": 5
}
