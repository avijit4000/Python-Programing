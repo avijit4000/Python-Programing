{
 "cells": [
  {
   "cell_type": "code",
   "execution_count": 2,
   "id": "1cdd186d",
   "metadata": {},
   "outputs": [
    {
     "name": "stdout",
     "output_type": "stream",
     "text": [
      "['dog', 'fish', 'rabbit']\n"
     ]
    }
   ],
   "source": [
    "pets=['dog','cat','fish','rabbit','cat']\n",
    "while 'cat' in pets:\n",
    "    pets.remove('cat')\n",
    "print(pets)"
   ]
  },
  {
   "cell_type": "code",
   "execution_count": 6,
   "id": "f8382bc4",
   "metadata": {},
   "outputs": [],
   "source": [
    "def greet(a):\n",
    "    print(a)"
   ]
  },
  {
   "cell_type": "code",
   "execution_count": 7,
   "id": "7acd120b",
   "metadata": {},
   "outputs": [
    {
     "ename": "NameError",
     "evalue": "name 'ji' is not defined",
     "output_type": "error",
     "traceback": [
      "\u001b[1;31m---------------------------------------------------------------------------\u001b[0m",
      "\u001b[1;31mNameError\u001b[0m                                 Traceback (most recent call last)",
      "Cell \u001b[1;32mIn [7], line 1\u001b[0m\n\u001b[1;32m----> 1\u001b[0m greet(ji)\n",
      "\u001b[1;31mNameError\u001b[0m: name 'ji' is not defined"
     ]
    }
   ],
   "source": [
    "greet(ji)"
   ]
  },
  {
   "cell_type": "code",
   "execution_count": 5,
   "id": "8f198d81",
   "metadata": {},
   "outputs": [
    {
     "name": "stdout",
     "output_type": "stream",
     "text": [
      "hello\n"
     ]
    }
   ],
   "source": [
    "greet()"
   ]
  },
  {
   "cell_type": "code",
   "execution_count": 9,
   "id": "40de6faf",
   "metadata": {},
   "outputs": [
    {
     "name": "stdout",
     "output_type": "stream",
     "text": [
      "ji\n",
      "hu\n",
      "re\n"
     ]
    }
   ],
   "source": [
    "def greet(a):\n",
    "    print(a)\n",
    "greet('ji')\n",
    "greet('hu')\n",
    "greet('re')"
   ]
  },
  {
   "cell_type": "code",
   "execution_count": 16,
   "id": "cc098dc0",
   "metadata": {},
   "outputs": [
    {
     "name": "stdout",
     "output_type": "stream",
     "text": [
      "avijit biswas\n",
      "biswas\n",
      "Barun \n",
      "\n"
     ]
    }
   ],
   "source": [
    "def uh(yu,ok=''):\n",
    "    print(yu,ok)\n",
    "    print(ok)\n",
    "uh('avijit','biswas')\n",
    "uh('Barun')"
   ]
  },
  {
   "cell_type": "code",
   "execution_count": 17,
   "id": "5d240a60",
   "metadata": {},
   "outputs": [
    {
     "name": "stdout",
     "output_type": "stream",
     "text": [
      "vijit\n"
     ]
    }
   ],
   "source": [
    "print('vijit')"
   ]
  },
  {
   "cell_type": "code",
   "execution_count": 19,
   "id": "f6067dd8",
   "metadata": {},
   "outputs": [
    {
     "data": {
      "text/plain": [
       "'avijit biswas'"
      ]
     },
     "execution_count": 19,
     "metadata": {},
     "output_type": "execute_result"
    }
   ],
   "source": [
    "def uh(yu,ok):\n",
    "    fn=yu+' '+ok\n",
    "    return fn\n",
    "uh('avijit','biswas')\n"
   ]
  },
  {
   "cell_type": "code",
   "execution_count": 22,
   "id": "3c2a6436",
   "metadata": {},
   "outputs": [
    {
     "data": {
      "text/plain": [
       "'Avijit Biswas'"
      ]
     },
     "execution_count": 22,
     "metadata": {},
     "output_type": "execute_result"
    }
   ],
   "source": [
    "def uh(yu,ok):\n",
    "    fn=yu+' '+ok\n",
    "    return fn.title()\n",
    "uh('avijit','biswas')"
   ]
  },
  {
   "cell_type": "code",
   "execution_count": 26,
   "id": "28f757fb",
   "metadata": {},
   "outputs": [
    {
     "name": "stdout",
     "output_type": "stream",
     "text": [
      "hello hannah !\n",
      "hello ty !\n",
      "hello margot !\n"
     ]
    }
   ],
   "source": [
    "def gu(names):\n",
    "    for name in names:\n",
    "        msg=\"hello \"+name+' !'\n",
    "        print(msg)\n",
    "gu(['hannah','ty','margot'])"
   ]
  },
  {
   "cell_type": "code",
   "execution_count": 28,
   "id": "a996a670",
   "metadata": {},
   "outputs": [
    {
     "name": "stdout",
     "output_type": "stream",
     "text": [
      "printing ring\n",
      "printing pendant\n",
      "printing phone case\n",
      "\n",
      "Unprinted: []\n",
      "Printed: ['ring', 'pendant', 'phone case']\n"
     ]
    }
   ],
   "source": [
    "def print_models(unprintde,printed):\n",
    "    while unprintde:\n",
    "        current_model=unprintde.pop()\n",
    "        print(\"printing \"+current_model)\n",
    "        printed.append(current_model)\n",
    "unprintde=['phone case','pendant','ring']\n",
    "printed=[]\n",
    "print_models(unprintde,printed)\n",
    "print(\"\\nUnprinted:\",unprintde)\n",
    "print(\"Printed:\",printed)"
   ]
  },
  {
   "cell_type": "code",
   "execution_count": 29,
   "id": "8e47aace",
   "metadata": {},
   "outputs": [
    {
     "name": "stdout",
     "output_type": "stream",
     "text": [
      "printing ring\n",
      "printing pendant\n",
      "printing phone case\n",
      "\n",
      "Original: ['phone case', 'pendant', 'ring']\n",
      "Printed: ['ring', 'pendant', 'phone case']\n"
     ]
    }
   ],
   "source": [
    "def print_models(unprintde,printed):\n",
    "    while unprintde:\n",
    "        current_model=unprintde.pop()\n",
    "        print(\"printing \"+current_model)\n",
    "        printed.append(current_model)\n",
    "original=['phone case','pendant','ring']\n",
    "printed=[]\n",
    "print_models(original[:],printed)\n",
    "print(\"\\nOriginal:\",original)\n",
    "print(\"Printed:\",printed)"
   ]
  },
  {
   "cell_type": "code",
   "execution_count": 30,
   "id": "4617c086",
   "metadata": {},
   "outputs": [
    {
     "name": "stdout",
     "output_type": "stream",
     "text": [
      "\n",
      "Making a small pizza.\n",
      "Toppings:\n",
      "-pepperoni\n",
      "\n",
      "Making a large pizza.\n",
      "Toppings:\n",
      "-bacon bits\n",
      "-pineapple\n",
      "\n",
      "Making a medium pizza.\n",
      "Toppings:\n",
      "-mushrooms\n",
      "-peppers\n",
      "-onions\n",
      "-extra cheese\n"
     ]
    }
   ],
   "source": [
    "def make_pizza(size,*toppings):\n",
    "    print(\"\\nMaking a \"+size+\" pizza.\")\n",
    "    print(\"Toppings:\")\n",
    "    for topping in toppings:\n",
    "        print(\"-\"+topping)\n",
    "make_pizza('small','pepperoni')\n",
    "make_pizza('large','bacon bits','pineapple')\n",
    "make_pizza('medium','mushrooms','peppers','onions','extra cheese')"
   ]
  },
  {
   "cell_type": "code",
   "execution_count": 2,
   "id": "160d54b1",
   "metadata": {},
   "outputs": [],
   "source": [
    "class Car():\n",
    "    def __init__(self,make,model,year):\n",
    "        self.make=make\n",
    "        self.model=model\n",
    "        self.year=year\n",
    "        \n",
    "        self.fuel_capacity=15\n",
    "        self.fuel_level=0\n",
    "        \n",
    "    def fill_tank(self):\n",
    "        self.fuel_level=self.fuel_capacity\n",
    "        print(\"Fuel tank is full.\")\n",
    "    def drive(self):\n",
    "        print(\"The car is moving.\")"
   ]
  },
  {
   "cell_type": "code",
   "execution_count": 3,
   "id": "7e5a6a45",
   "metadata": {},
   "outputs": [],
   "source": [
    "my_car=Car('audi','a4','2016')"
   ]
  },
  {
   "cell_type": "code",
   "execution_count": 4,
   "id": "205fbd0d",
   "metadata": {},
   "outputs": [
    {
     "name": "stdout",
     "output_type": "stream",
     "text": [
      "audi\n",
      "a4\n",
      "2016\n"
     ]
    }
   ],
   "source": [
    "print(my_car.make)\n",
    "print(my_car.model)\n",
    "print(my_car.year)"
   ]
  },
  {
   "cell_type": "code",
   "execution_count": 5,
   "id": "0b1af1cb",
   "metadata": {},
   "outputs": [
    {
     "name": "stdout",
     "output_type": "stream",
     "text": [
      "Fuel tank is full.\n",
      "The car is moving.\n"
     ]
    }
   ],
   "source": [
    "my_car.fill_tank()\n",
    "my_car.drive()"
   ]
  },
  {
   "cell_type": "code",
   "execution_count": 6,
   "id": "0b1010d1",
   "metadata": {},
   "outputs": [],
   "source": [
    "my_car=Car('audi','a4',2016)\n",
    "my_old_car=Car('subaru','outback',2013)\n",
    "my_truck=Car('toyota','tacoma',2010)"
   ]
  },
  {
   "cell_type": "code",
   "execution_count": 7,
   "id": "0df5d9cd",
   "metadata": {},
   "outputs": [
    {
     "name": "stdout",
     "output_type": "stream",
     "text": [
      "subaru\n",
      "outback\n",
      "2013\n",
      "toyota\n",
      "tacoma\n",
      "2010\n"
     ]
    }
   ],
   "source": [
    "print(my_old_car.make)\n",
    "print(my_old_car.model)\n",
    "print(my_old_car.year)\n",
    "print(my_truck.make)\n",
    "print(my_truck.model)\n",
    "print(my_truck.year)"
   ]
  },
  {
   "cell_type": "code",
   "execution_count": 8,
   "id": "04df1e67",
   "metadata": {},
   "outputs": [],
   "source": [
    "my_new_car=Car('audi','a4',2016)\n",
    "my_new_car.fuel_level=5"
   ]
  },
  {
   "cell_type": "code",
   "execution_count": 9,
   "id": "074c3a1b",
   "metadata": {},
   "outputs": [],
   "source": [
    "def update_fuel_level(self,new_level):\n",
    "    if new_level<=self.fuel_capacity:\n",
    "        self.fuel_level=new_level\n",
    "    else:\n",
    "        print(\"The tank can't hold that much!\")"
   ]
  },
  {
   "cell_type": "code",
   "execution_count": 10,
   "id": "127e2fb8",
   "metadata": {},
   "outputs": [],
   "source": [
    "my_string='thisstringisAwesome'"
   ]
  },
  {
   "cell_type": "code",
   "execution_count": 11,
   "id": "0662c0a1",
   "metadata": {},
   "outputs": [
    {
     "data": {
      "text/plain": [
       "'thisstringisAwesome'"
      ]
     },
     "execution_count": 11,
     "metadata": {},
     "output_type": "execute_result"
    }
   ],
   "source": [
    "my_string"
   ]
  },
  {
   "cell_type": "code",
   "execution_count": 12,
   "id": "b2386138",
   "metadata": {},
   "outputs": [
    {
     "data": {
      "text/plain": [
       "'thisstringisAwesomethisstringisAwesome'"
      ]
     },
     "execution_count": 12,
     "metadata": {},
     "output_type": "execute_result"
    }
   ],
   "source": [
    "my_string*2"
   ]
  },
  {
   "cell_type": "code",
   "execution_count": 13,
   "id": "24f8db33",
   "metadata": {},
   "outputs": [
    {
     "data": {
      "text/plain": [
       "'thisstringisAwesomeInnit'"
      ]
     },
     "execution_count": 13,
     "metadata": {},
     "output_type": "execute_result"
    }
   ],
   "source": [
    "my_string+'Innit'"
   ]
  },
  {
   "cell_type": "code",
   "execution_count": 14,
   "id": "4ef3ad24",
   "metadata": {},
   "outputs": [
    {
     "data": {
      "text/plain": [
       "True"
      ]
     },
     "execution_count": 14,
     "metadata": {},
     "output_type": "execute_result"
    }
   ],
   "source": [
    "'m' in my_string"
   ]
  },
  {
   "cell_type": "code",
   "execution_count": 15,
   "id": "0ea5a00f",
   "metadata": {},
   "outputs": [],
   "source": [
    "a='is'\n",
    "b='nice'\n",
    "my_list=['my','list',a,b]\n",
    "my_list2=[[4,5,6,7],[3,4,5,6]]"
   ]
  },
  {
   "cell_type": "code",
   "execution_count": 16,
   "id": "ba75ad7e",
   "metadata": {},
   "outputs": [
    {
     "name": "stdout",
     "output_type": "stream",
     "text": [
      "['my', 'list', 'is', 'nice']\n",
      "[[4, 5, 6, 7], [3, 4, 5, 6]]\n"
     ]
    }
   ],
   "source": [
    "print(my_list)\n",
    "print(my_list2)"
   ]
  },
  {
   "cell_type": "code",
   "execution_count": 17,
   "id": "78ad0f18",
   "metadata": {},
   "outputs": [
    {
     "data": {
      "text/plain": [
       "[[4, 5, 6, 7], [3, 4, 5, 6]]"
      ]
     },
     "execution_count": 17,
     "metadata": {},
     "output_type": "execute_result"
    }
   ],
   "source": [
    "my_list2"
   ]
  },
  {
   "cell_type": "code",
   "execution_count": 22,
   "id": "7569ab56",
   "metadata": {},
   "outputs": [
    {
     "data": {
      "text/plain": [
       "1"
      ]
     },
     "execution_count": 22,
     "metadata": {},
     "output_type": "execute_result"
    }
   ],
   "source": [
    "my_list.index('list')"
   ]
  },
  {
   "cell_type": "code",
   "execution_count": 24,
   "id": "d4f59fc5",
   "metadata": {},
   "outputs": [
    {
     "data": {
      "text/plain": [
       "0"
      ]
     },
     "execution_count": 24,
     "metadata": {},
     "output_type": "execute_result"
    }
   ],
   "source": [
    "my_list2.index([4, 5, 6, 7])"
   ]
  },
  {
   "cell_type": "code",
   "execution_count": 29,
   "id": "7a61b704",
   "metadata": {},
   "outputs": [
    {
     "data": {
      "text/plain": [
       "1"
      ]
     },
     "execution_count": 29,
     "metadata": {},
     "output_type": "execute_result"
    }
   ],
   "source": [
    "my_list.count(a)"
   ]
  },
  {
   "cell_type": "code",
   "execution_count": 32,
   "id": "cfb46fc5",
   "metadata": {},
   "outputs": [],
   "source": [
    "my_list.append('!')"
   ]
  },
  {
   "cell_type": "code",
   "execution_count": 33,
   "id": "a83b5788",
   "metadata": {},
   "outputs": [
    {
     "data": {
      "text/plain": [
       "['my', 'list', 'is', 'nice', '!']"
      ]
     },
     "execution_count": 33,
     "metadata": {},
     "output_type": "execute_result"
    }
   ],
   "source": [
    "my_list"
   ]
  },
  {
   "cell_type": "code",
   "execution_count": 34,
   "id": "5187d06a",
   "metadata": {},
   "outputs": [],
   "source": [
    "my_list.remove('!')"
   ]
  },
  {
   "cell_type": "code",
   "execution_count": 35,
   "id": "90c98007",
   "metadata": {},
   "outputs": [
    {
     "data": {
      "text/plain": [
       "['my', 'list', 'is', 'nice']"
      ]
     },
     "execution_count": 35,
     "metadata": {},
     "output_type": "execute_result"
    }
   ],
   "source": [
    "my_list"
   ]
  },
  {
   "cell_type": "code",
   "execution_count": 36,
   "id": "f14f2877",
   "metadata": {},
   "outputs": [],
   "source": [
    "del my_list[0:1]"
   ]
  },
  {
   "cell_type": "code",
   "execution_count": 37,
   "id": "2b22604e",
   "metadata": {},
   "outputs": [
    {
     "data": {
      "text/plain": [
       "['list', 'is', 'nice']"
      ]
     },
     "execution_count": 37,
     "metadata": {},
     "output_type": "execute_result"
    }
   ],
   "source": [
    "my_list"
   ]
  },
  {
   "cell_type": "code",
   "execution_count": 38,
   "id": "21f99bc2",
   "metadata": {},
   "outputs": [],
   "source": [
    "my_list.reverse()"
   ]
  },
  {
   "cell_type": "code",
   "execution_count": 39,
   "id": "776427bc",
   "metadata": {},
   "outputs": [
    {
     "data": {
      "text/plain": [
       "['nice', 'is', 'list']"
      ]
     },
     "execution_count": 39,
     "metadata": {},
     "output_type": "execute_result"
    }
   ],
   "source": [
    "my_list"
   ]
  },
  {
   "cell_type": "code",
   "execution_count": 40,
   "id": "0e401f40",
   "metadata": {},
   "outputs": [],
   "source": [
    "my_list.extend('!')"
   ]
  },
  {
   "cell_type": "code",
   "execution_count": 41,
   "id": "72575680",
   "metadata": {},
   "outputs": [
    {
     "data": {
      "text/plain": [
       "['nice', 'is', 'list', '!']"
      ]
     },
     "execution_count": 41,
     "metadata": {},
     "output_type": "execute_result"
    }
   ],
   "source": [
    "my_list"
   ]
  },
  {
   "cell_type": "code",
   "execution_count": 42,
   "id": "a0c3fea5",
   "metadata": {},
   "outputs": [
    {
     "data": {
      "text/plain": [
       "'!'"
      ]
     },
     "execution_count": 42,
     "metadata": {},
     "output_type": "execute_result"
    }
   ],
   "source": [
    "my_list.pop(-1)"
   ]
  },
  {
   "cell_type": "code",
   "execution_count": 43,
   "id": "1260dfe1",
   "metadata": {},
   "outputs": [
    {
     "data": {
      "text/plain": [
       "['nice', 'is', 'list']"
      ]
     },
     "execution_count": 43,
     "metadata": {},
     "output_type": "execute_result"
    }
   ],
   "source": [
    "my_list"
   ]
  },
  {
   "cell_type": "code",
   "execution_count": 44,
   "id": "dfece9c7",
   "metadata": {},
   "outputs": [],
   "source": [
    "my_list.insert(0,'!')"
   ]
  },
  {
   "cell_type": "code",
   "execution_count": 45,
   "id": "0ae16c2a",
   "metadata": {},
   "outputs": [
    {
     "data": {
      "text/plain": [
       "['!', 'nice', 'is', 'list']"
      ]
     },
     "execution_count": 45,
     "metadata": {},
     "output_type": "execute_result"
    }
   ],
   "source": [
    "my_list\n"
   ]
  },
  {
   "cell_type": "code",
   "execution_count": 46,
   "id": "4e3920c2",
   "metadata": {},
   "outputs": [],
   "source": [
    "my_list.sort()"
   ]
  },
  {
   "cell_type": "code",
   "execution_count": 47,
   "id": "66eb0596",
   "metadata": {},
   "outputs": [
    {
     "data": {
      "text/plain": [
       "['!', 'is', 'list', 'nice']"
      ]
     },
     "execution_count": 47,
     "metadata": {},
     "output_type": "execute_result"
    }
   ],
   "source": [
    "my_list"
   ]
  },
  {
   "cell_type": "code",
   "execution_count": 48,
   "id": "a3ae4ef6",
   "metadata": {},
   "outputs": [],
   "source": [
    "import numpy as np\n",
    "from math import pi"
   ]
  },
  {
   "cell_type": "code",
   "execution_count": 49,
   "id": "df962046",
   "metadata": {},
   "outputs": [],
   "source": [
    "my_list=[1,2,3,4]"
   ]
  },
  {
   "cell_type": "code",
   "execution_count": 50,
   "id": "9f484975",
   "metadata": {},
   "outputs": [
    {
     "data": {
      "text/plain": [
       "[1, 2, 3, 4]"
      ]
     },
     "execution_count": 50,
     "metadata": {},
     "output_type": "execute_result"
    }
   ],
   "source": [
    "my_list"
   ]
  },
  {
   "cell_type": "code",
   "execution_count": 51,
   "id": "eed3fdde",
   "metadata": {},
   "outputs": [],
   "source": [
    "my_array=np.array(my_list)\n",
    "my_2darray=np.array([[1,2,3],[4,5,6]])"
   ]
  },
  {
   "cell_type": "code",
   "execution_count": 52,
   "id": "c93eb3bb",
   "metadata": {},
   "outputs": [
    {
     "data": {
      "text/plain": [
       "2"
      ]
     },
     "execution_count": 52,
     "metadata": {},
     "output_type": "execute_result"
    }
   ],
   "source": [
    "my_array[1]"
   ]
  },
  {
   "cell_type": "code",
   "execution_count": 53,
   "id": "f731319a",
   "metadata": {},
   "outputs": [
    {
     "data": {
      "text/plain": [
       "array([1, 2])"
      ]
     },
     "execution_count": 53,
     "metadata": {},
     "output_type": "execute_result"
    }
   ],
   "source": [
    "my_array[0:2]"
   ]
  },
  {
   "cell_type": "code",
   "execution_count": 54,
   "id": "837fc935",
   "metadata": {},
   "outputs": [
    {
     "data": {
      "text/plain": [
       "array([[1, 2, 3],\n",
       "       [4, 5, 6]])"
      ]
     },
     "execution_count": 54,
     "metadata": {},
     "output_type": "execute_result"
    }
   ],
   "source": [
    "my_2darray"
   ]
  },
  {
   "cell_type": "code",
   "execution_count": 55,
   "id": "90f72437",
   "metadata": {},
   "outputs": [
    {
     "data": {
      "text/plain": [
       "array([[False, False, False],\n",
       "       [ True,  True,  True]])"
      ]
     },
     "execution_count": 55,
     "metadata": {},
     "output_type": "execute_result"
    }
   ],
   "source": [
    "my_2darray>3"
   ]
  },
  {
   "cell_type": "code",
   "execution_count": 56,
   "id": "aa054b2b",
   "metadata": {},
   "outputs": [
    {
     "data": {
      "text/plain": [
       "array([[ 2,  4,  6],\n",
       "       [ 8, 10, 12]])"
      ]
     },
     "execution_count": 56,
     "metadata": {},
     "output_type": "execute_result"
    }
   ],
   "source": [
    "my_2darray*2"
   ]
  },
  {
   "cell_type": "code",
   "execution_count": 57,
   "id": "c0b055b7",
   "metadata": {},
   "outputs": [
    {
     "data": {
      "text/plain": [
       "array([[1, 2, 3],\n",
       "       [4, 5, 6]])"
      ]
     },
     "execution_count": 57,
     "metadata": {},
     "output_type": "execute_result"
    }
   ],
   "source": [
    "my_2darray"
   ]
  },
  {
   "cell_type": "code",
   "execution_count": 58,
   "id": "6be1ab7f",
   "metadata": {},
   "outputs": [
    {
     "data": {
      "text/plain": [
       "array([1, 2, 3, 4])"
      ]
     },
     "execution_count": 58,
     "metadata": {},
     "output_type": "execute_result"
    }
   ],
   "source": [
    "my_array"
   ]
  },
  {
   "cell_type": "code",
   "execution_count": 59,
   "id": "5bc9f983",
   "metadata": {},
   "outputs": [
    {
     "data": {
      "text/plain": [
       "array([ 6,  8, 10, 12])"
      ]
     },
     "execution_count": 59,
     "metadata": {},
     "output_type": "execute_result"
    }
   ],
   "source": [
    "my_array+np.array([5,6,7,8])"
   ]
  },
  {
   "cell_type": "code",
   "execution_count": 60,
   "id": "6b5e67a5",
   "metadata": {},
   "outputs": [
    {
     "data": {
      "text/plain": [
       "(2, 3)"
      ]
     },
     "execution_count": 60,
     "metadata": {},
     "output_type": "execute_result"
    }
   ],
   "source": [
    "my_2darray.shape\n",
    "\n"
   ]
  },
  {
   "cell_type": "code",
   "execution_count": 61,
   "id": "06b3af2e",
   "metadata": {},
   "outputs": [
    {
     "ename": "NameError",
     "evalue": "name 'other_array' is not defined",
     "output_type": "error",
     "traceback": [
      "\u001b[1;31m---------------------------------------------------------------------------\u001b[0m",
      "\u001b[1;31mNameError\u001b[0m                                 Traceback (most recent call last)",
      "Cell \u001b[1;32mIn [61], line 1\u001b[0m\n\u001b[1;32m----> 1\u001b[0m np\u001b[38;5;241m.\u001b[39mappend(other_array)\n",
      "\u001b[1;31mNameError\u001b[0m: name 'other_array' is not defined"
     ]
    }
   ],
   "source": [
    "np.append(other_array)"
   ]
  },
  {
   "cell_type": "code",
   "execution_count": 62,
   "id": "bc840353",
   "metadata": {},
   "outputs": [
    {
     "data": {
      "text/plain": [
       "array([1, 5, 2, 3, 4, 5, 6])"
      ]
     },
     "execution_count": 62,
     "metadata": {},
     "output_type": "execute_result"
    }
   ],
   "source": [
    "np.insert(my_2darray,1,5)"
   ]
  },
  {
   "cell_type": "code",
   "execution_count": 63,
   "id": "ee477466",
   "metadata": {},
   "outputs": [
    {
     "data": {
      "text/plain": [
       "1.118033988749895"
      ]
     },
     "execution_count": 63,
     "metadata": {},
     "output_type": "execute_result"
    }
   ],
   "source": [
    "np.std(my_array)"
   ]
  },
  {
   "cell_type": "code",
   "execution_count": 64,
   "id": "2aaba32e",
   "metadata": {},
   "outputs": [
    {
     "data": {
      "text/plain": [
       "1.707825127659933"
      ]
     },
     "execution_count": 64,
     "metadata": {},
     "output_type": "execute_result"
    }
   ],
   "source": [
    "np.std(my_2darray)"
   ]
  },
  {
   "cell_type": "code",
   "execution_count": null,
   "id": "f63eddbb",
   "metadata": {},
   "outputs": [],
   "source": []
  }
 ],
 "metadata": {
  "kernelspec": {
   "display_name": "Python 3 (ipykernel)",
   "language": "python",
   "name": "python3"
  },
  "language_info": {
   "codemirror_mode": {
    "name": "ipython",
    "version": 3
   },
   "file_extension": ".py",
   "mimetype": "text/x-python",
   "name": "python",
   "nbconvert_exporter": "python",
   "pygments_lexer": "ipython3",
   "version": "3.10.7"
  }
 },
 "nbformat": 4,
 "nbformat_minor": 5
}
